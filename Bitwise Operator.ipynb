{
 "cells": [
  {
   "cell_type": "markdown",
   "id": "d385cb65",
   "metadata": {},
   "source": [
    "#Bitwise Operator"
   ]
  },
  {
   "cell_type": "code",
   "execution_count": null,
   "id": "5d0dc60f",
   "metadata": {},
   "outputs": [],
   "source": [
    "#Bitwise AND"
   ]
  },
  {
   "cell_type": "code",
   "execution_count": 8,
   "id": "43c58d68",
   "metadata": {},
   "outputs": [
    {
     "name": "stdout",
     "output_type": "stream",
     "text": [
      "2\n"
     ]
    }
   ],
   "source": [
    "print(6&3)"
   ]
  },
  {
   "cell_type": "code",
   "execution_count": null,
   "id": "1b78d789",
   "metadata": {},
   "outputs": [],
   "source": [
    "#Bitwise Or"
   ]
  },
  {
   "cell_type": "code",
   "execution_count": 9,
   "id": "f5a0eac8",
   "metadata": {},
   "outputs": [
    {
     "name": "stdout",
     "output_type": "stream",
     "text": [
      "3\n"
     ]
    }
   ],
   "source": [
    "print(2|3)"
   ]
  },
  {
   "cell_type": "code",
   "execution_count": null,
   "id": "4153fb48",
   "metadata": {},
   "outputs": [],
   "source": [
    "#Bitwise XOR"
   ]
  },
  {
   "cell_type": "code",
   "execution_count": 10,
   "id": "afb16a42",
   "metadata": {},
   "outputs": [
    {
     "name": "stdout",
     "output_type": "stream",
     "text": [
      "1\n"
     ]
    }
   ],
   "source": [
    "print (2^3)"
   ]
  },
  {
   "cell_type": "code",
   "execution_count": null,
   "id": "a16df9ca",
   "metadata": {},
   "outputs": [],
   "source": [
    "#Bitwise Not"
   ]
  },
  {
   "cell_type": "code",
   "execution_count": 11,
   "id": "261bae79",
   "metadata": {},
   "outputs": [
    {
     "name": "stdout",
     "output_type": "stream",
     "text": [
      "-4\n"
     ]
    }
   ],
   "source": [
    "print(~3)\n",
    "1. Convert the decimal value to a binary value of 8 digits\n",
    "2. Invert the number to calculate its symbol\n",
    "3. Add 1 with the binary value of the number\n",
    "4. Calculate the decimal value of the result."
   ]
  },
  {
   "cell_type": "code",
   "execution_count": null,
   "id": "94cbe26b",
   "metadata": {},
   "outputs": [],
   "source": [
    "#Bitwise Rightshift"
   ]
  },
  {
   "cell_type": "code",
   "execution_count": 13,
   "id": "40d0df7f",
   "metadata": {},
   "outputs": [
    {
     "name": "stdout",
     "output_type": "stream",
     "text": [
      "1\n"
     ]
    }
   ],
   "source": [
    "print(4>>2)"
   ]
  },
  {
   "cell_type": "code",
   "execution_count": 15,
   "id": "2d6bf41c",
   "metadata": {},
   "outputs": [
    {
     "name": "stdout",
     "output_type": "stream",
     "text": [
      "3\n"
     ]
    }
   ],
   "source": [
    "print(12>>2)"
   ]
  },
  {
   "cell_type": "code",
   "execution_count": null,
   "id": "b2d9a28b",
   "metadata": {},
   "outputs": [],
   "source": [
    "#Bitwise LeftShift"
   ]
  },
  {
   "cell_type": "code",
   "execution_count": 16,
   "id": "3b2d98d0",
   "metadata": {},
   "outputs": [
    {
     "name": "stdout",
     "output_type": "stream",
     "text": [
      "16\n"
     ]
    }
   ],
   "source": [
    "print(4<<2)"
   ]
  },
  {
   "cell_type": "code",
   "execution_count": null,
   "id": "5347eb67",
   "metadata": {},
   "outputs": [],
   "source": []
  },
  {
   "cell_type": "code",
   "execution_count": null,
   "id": "e65494c5",
   "metadata": {},
   "outputs": [],
   "source": []
  },
  {
   "cell_type": "code",
   "execution_count": null,
   "id": "c80f3052",
   "metadata": {},
   "outputs": [],
   "source": []
  },
  {
   "cell_type": "code",
   "execution_count": 12,
   "id": "aa2f378d",
   "metadata": {},
   "outputs": [
    {
     "name": "stdout",
     "output_type": "stream",
     "text": [
      "16\n"
     ]
    }
   ],
   "source": [
    "print(4>>2)"
   ]
  },
  {
   "cell_type": "code",
   "execution_count": null,
   "id": "10a91c02",
   "metadata": {},
   "outputs": [],
   "source": [
    "#Bitwise LeftShift"
   ]
  }
 ],
 "metadata": {
  "kernelspec": {
   "display_name": "Python 3 (ipykernel)",
   "language": "python",
   "name": "python3"
  },
  "language_info": {
   "codemirror_mode": {
    "name": "ipython",
    "version": 3
   },
   "file_extension": ".py",
   "mimetype": "text/x-python",
   "name": "python",
   "nbconvert_exporter": "python",
   "pygments_lexer": "ipython3",
   "version": "3.11.5"
  }
 },
 "nbformat": 4,
 "nbformat_minor": 5
}
